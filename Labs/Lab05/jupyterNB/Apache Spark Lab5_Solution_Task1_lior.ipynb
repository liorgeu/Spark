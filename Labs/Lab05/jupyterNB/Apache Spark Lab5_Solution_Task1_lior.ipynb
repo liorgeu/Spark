{
 "cells": [
  {
   "cell_type": "code",
   "execution_count": 1,
   "metadata": {},
   "outputs": [
    {
     "name": "stderr",
     "output_type": "stream",
     "text": [
      "Setting default log level to \"WARN\".\n",
      "To adjust logging level use sc.setLogLevel(newLevel). For SparkR, use setLogLevel(newLevel).\n",
      "24/09/23 18:01:04 WARN NativeCodeLoader: Unable to load native-hadoop library for your platform... using builtin-java classes where applicable\n"
     ]
    }
   ],
   "source": [
    "from pyspark.sql import SparkSession\n",
    "from pyspark.sql import functions as F\n",
    "from pyspark.sql import Row\n",
    "from pyspark.sql import types as T\n",
    "\n",
    "spark = SparkSession.builder.master(\"local[*]\").appName('ex5_google_apps').getOrCreate()"
   ]
  },
  {
   "cell_type": "code",
   "execution_count": 2,
   "metadata": {},
   "outputs": [
    {
     "name": "stdout",
     "output_type": "stream",
     "text": [
      "[Row(age_limit=18, Content_Rating='Adults only 18+'), Row(age_limit=17, Content_Rating='Mature 17+'), Row(age_limit=12, Content_Rating='Teen'), Row(age_limit=10, Content_Rating='Everyone 10+'), Row(age_limit=0, Content_Rating='Everyone')]\n"
     ]
    }
   ],
   "source": [
    "#Define an array of Row objects that map age limits to content ratings.\n",
    "age_limit_arr = [Row(age_limit=18, Content_Rating='Adults only 18+'),\n",
    "Row(age_limit=17, Content_Rating='Mature 17+'),\n",
    "Row(age_limit=12, Content_Rating='Teen'),\n",
    "Row(age_limit=10, Content_Rating='Everyone 10+'),\n",
    "Row(age_limit=0, Content_Rating='Everyone')]\n",
    "\n",
    "print(age_limit_arr)"
   ]
  },
  {
   "cell_type": "code",
   "execution_count": 8,
   "metadata": {},
   "outputs": [
    {
     "name": "stdout",
     "output_type": "stream",
     "text": [
      "+---------+---------------+\n",
      "|age_limit| Content Rating|\n",
      "+---------+---------------+\n",
      "|       18|Adults only 18+|\n",
      "|       17|     Mature 17+|\n",
      "|       12|           Teen|\n",
      "|       10|   Everyone 10+|\n",
      "|        0|       Everyone|\n",
      "+---------+---------------+\n",
      "\n"
     ]
    }
   ],
   "source": []
  },
  {
   "cell_type": "code",
   "execution_count": 3,
   "metadata": {},
   "outputs": [
    {
     "name": "stderr",
     "output_type": "stream",
     "text": [
      "24/09/23 18:02:16 WARN MetricsConfig: Cannot locate configuration: tried hadoop-metrics2-s3a-file-system.properties,hadoop-metrics2.properties\n",
      "                                                                                \r"
     ]
    },
    {
     "name": "stdout",
     "output_type": "stream",
     "text": [
      "root\n",
      " |-- App: string (nullable = true)\n",
      " |-- Category: string (nullable = true)\n",
      " |-- Rating: string (nullable = true)\n",
      " |-- Reviews: string (nullable = true)\n",
      " |-- Size: string (nullable = true)\n",
      " |-- Installs: string (nullable = true)\n",
      " |-- Type: string (nullable = true)\n",
      " |-- Price: string (nullable = true)\n",
      " |-- Content Rating: string (nullable = true)\n",
      " |-- Genres: string (nullable = true)\n",
      " |-- Last Updated: string (nullable = true)\n",
      " |-- Current Ver: string (nullable = true)\n",
      " |-- Android Ver: string (nullable = true)\n",
      "\n"
     ]
    },
    {
     "data": {
      "text/plain": [
       "<bound method DataFrame.show of DataFrame[App: string, Category: string, Rating: string, Reviews: string, Size: string, Installs: string, Type: string, Price: string, Content Rating: string, Genres: string, Last Updated: string, Current Ver: string, Android Ver: string]>"
      ]
     },
     "execution_count": 3,
     "metadata": {},
     "output_type": "execute_result"
    }
   ],
   "source": [
    "#Read the Google Play Store data CSV into a DataFrame .\n",
    "google_apps_df = spark.read.csv('s3a://spark/data/raw/google_apps/', header=True)\n",
    "google_apps_df.printSchema()\n",
    "google_apps_df.show"
   ]
  },
  {
   "cell_type": "code",
   "execution_count": 4,
   "metadata": {},
   "outputs": [
    {
     "name": "stderr",
     "output_type": "stream",
     "text": [
      "[Stage 3:===========================>                              (7 + 8) / 15]\r"
     ]
    },
    {
     "name": "stdout",
     "output_type": "stream",
     "text": [
      "+---------+---------------+\n",
      "|age_limit| Content Rating|\n",
      "+---------+---------------+\n",
      "|       18|Adults only 18+|\n",
      "|       17|     Mature 17+|\n",
      "|       12|           Teen|\n",
      "|       10|   Everyone 10+|\n",
      "|        0|       Everyone|\n",
      "+---------+---------------+\n",
      "\n"
     ]
    },
    {
     "name": "stderr",
     "output_type": "stream",
     "text": [
      "                                                                                \r"
     ]
    }
   ],
   "source": [
    "#Convert the age limit mapping array to a DataFrame.\n",
    "age_limit_df = spark.createDataFrame(age_limit_arr).withColumnRenamed('Content_Rating', 'Content Rating')\n",
    "age_limit_df.show()"
   ]
  },
  {
   "cell_type": "markdown",
   "metadata": {},
   "source": []
  },
  {
   "cell_type": "code",
   "execution_count": 5,
   "metadata": {},
   "outputs": [
    {
     "name": "stdout",
     "output_type": "stream",
     "text": [
      "+--------------------+--------------+------+-------+----+-----------+----+-----+--------------+--------------------+----------------+------------------+------------+\n",
      "|                 App|      Category|Rating|Reviews|Size|   Installs|Type|Price|Content Rating|              Genres|    Last Updated|       Current Ver| Android Ver|\n",
      "+--------------------+--------------+------+-------+----+-----------+----+-----+--------------+--------------------+----------------+------------------+------------+\n",
      "|Photo Editor & Ca...|ART_AND_DESIGN|   4.1|    159| 19M|    10,000+|Free|    0|      Everyone|        Art & Design| January 7, 2018|             1.0.0|4.0.3 and up|\n",
      "| Coloring book moana|ART_AND_DESIGN|   3.9|    967| 14M|   500,000+|Free|    0|      Everyone|Art & Design;Pret...|January 15, 2018|             2.0.0|4.0.3 and up|\n",
      "|U Launcher Lite –...|ART_AND_DESIGN|   4.7|  87510|8.7M| 5,000,000+|Free|    0|      Everyone|        Art & Design|  August 1, 2018|             1.2.4|4.0.3 and up|\n",
      "|Sketch - Draw & P...|ART_AND_DESIGN|   4.5| 215644| 25M|50,000,000+|Free|    0|          Teen|        Art & Design|    June 8, 2018|Varies with device|  4.2 and up|\n",
      "|Pixel Draw - Numb...|ART_AND_DESIGN|   4.3|    967|2.8M|   100,000+|Free|    0|      Everyone|Art & Design;Crea...|   June 20, 2018|               1.1|  4.4 and up|\n",
      "+--------------------+--------------+------+-------+----+-----------+----+-----+--------------+--------------------+----------------+------------------+------------+\n",
      "only showing top 5 rows\n",
      "\n"
     ]
    }
   ],
   "source": [
    "google_apps_df.show(5)"
   ]
  },
  {
   "cell_type": "code",
   "execution_count": 6,
   "metadata": {},
   "outputs": [],
   "source": [
    "# Join the age_limit_df with the main DataFrame based on the 'Content Rating' column .\n",
    "joined_df = google_apps_df.join(F.broadcast(age_limit_df), ['Content Rating'])"
   ]
  },
  {
   "cell_type": "code",
   "execution_count": 13,
   "metadata": {},
   "outputs": [],
   "source": [
    "# Data Transformation & Cleaning:\n",
    "# Relevant columns are selected and renamed.\n",
    "# Non-numeric characters are removed from the 'Installs' column.\n",
    "# The 'Price' column is cast to DoubleType.\n",
    "# Missing ratings are replaced with -1.\n",
    "\n",
    "\n",
    "selected_df = joined_df \\\n",
    ". select(F.col('App').alias('application_name'),\n",
    "F.col('Category').alias('category') ,\n",
    "F.col('Rating').alias('rating') ,\n",
    "F.col('Reviews').cast(T.FloatType()).alias('reviews') ,\n",
    "F.col('Size').alias('size'),\n",
    "F.regexp_replace(F.col('Installs'), '[^0-9]', '').cast(T.DoubleType()).alias('num_of_installs'),\n",
    "F.col('Price').cast(T.DoubleType()).alias('price') ,\n",
    "F.col('age_limit') ,\n",
    "F.col('Genres').alias('genres') ,\n",
    "F.col('Current Ver').alias('version'))\\\n",
    ".fillna(-1, 'Rating')"
   ]
  },
  {
   "cell_type": "code",
   "execution_count": null,
   "metadata": {},
   "outputs": [],
   "source": [
    "from pyspark.sql import SparkSession\n",
    "from pyspark.sql import functions as F\n",
    "from pyspark.sql import Row\n",
    "from pyspark.sql import types as T\n",
    "spark = SparkSession.builder.master(\"local\").appName('ex5_google_apps').getOrCreate()\n",
    "age_limit_arr = [Row(age_limit=18, Content_Rating='Adults only 18+'),\n",
    "Row(age_limit=17, Content_Rating='Mature 17+'),\n",
    "Row(age_limit=12, Content_Rating='Teen'),\n",
    "Row(age_limit=10, Content_Rating='Everyone 10+'),\n",
    "Row(age_limit=0, Content_Rating='Everyone')]\n",
    "print(age_limit_arr)\n",
    "google_apps_df = spark.read.csv('s3a://spark/data/raw/google_apps/', header=True)\n",
    "google_apps_df.printSchema()\n",
    "age_limit_df = spark.createDataFrame(age_limit_arr).withColumnRenamed('Content_Rating', 'Content Rating')\n",
    "age_limit_df.show()\n",
    "joined_df = google_apps_df.join(F.broadcast(age_limit_df), ['Content Rating'])\n",
    "selected_df = joined_df \\\n",
    ".select(F.col('App').alias('application_name'),\n",
    "F.col('Category').alias('category'),\n",
    "F.col('Rating').alias('rating'),\n",
    "F.col('Reviews').cast(T.FloatType()).alias('reviews'),\n",
    "F.col('Size').alias('size'),\n",
    "F.regexp_replace(F.col('Installs'), '[^0-9]', '').cast(T.DoubleType()).alias('num_of_installs'),\n",
    "F.col('Price').cast(T.DoubleType()).alias('price'),\n",
    "F.col('age_limit'),\n",
    "F.col('Genres').alias('genres'),\n",
    "F.col('Current Ver').alias('version')) \\\n",
    ".fillna(-1, 'Rating')\n",
    "selected_df.show(6)\n",
    "selected_df.printSchema()\n",
    "selected_df.write.parquet('s3a://spark/data/source/google_apps', mode='overwrite')\n",
    "spark.stop()"
   ]
  }
 ],
 "metadata": {
  "kernelspec": {
   "display_name": "Python 3",
   "language": "python",
   "name": "python3"
  },
  "language_info": {
   "codemirror_mode": {
    "name": "ipython",
    "version": 3
   },
   "file_extension": ".py",
   "mimetype": "text/x-python",
   "name": "python",
   "nbconvert_exporter": "python",
   "pygments_lexer": "ipython3",
   "version": "3.10.7"
  },
  "orig_nbformat": 4
 },
 "nbformat": 4,
 "nbformat_minor": 2
}
