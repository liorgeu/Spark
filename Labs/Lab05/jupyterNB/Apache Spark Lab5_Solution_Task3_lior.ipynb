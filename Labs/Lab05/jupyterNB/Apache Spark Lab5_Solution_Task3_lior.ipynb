{
 "cells": [
  {
   "cell_type": "code",
   "execution_count": 9,
   "metadata": {},
   "outputs": [],
   "source": [
    "\n",
    "# Import Required Modules & Set Environment Variables\n",
    "import time\n",
    "from pyspark.sql import SparkSession\n",
    "from pyspark.sql import functions as F\n",
    "from pyspark.sql import types as T\n",
    "from kafka import KafkaProducer"
   ]
  },
  {
   "cell_type": "code",
   "execution_count": 10,
   "metadata": {},
   "outputs": [
    {
     "name": "stderr",
     "output_type": "stream",
     "text": [
      "24/09/26 16:31:11 WARN Utils: Service 'SparkUI' could not bind on port 4040. Attempting port 4041.\n"
     ]
    }
   ],
   "source": [
    "# Initialize SparkSession:\n",
    "# This creates a new SparkSession with the name 'ex5_reviews_producer', running on a single\n",
    "# local node.\n",
    "spark = SparkSession \\\n",
    "        .builder \\\n",
    "        .master(\"local[*]\") \\\n",
    "        .appName('taxi') \\\n",
    "        .config('spark.jars.packages', 'org.apache.spark:spark-sql-kafka-0-10_2.12:3.1.2') \\\n",
    "        .config(\"fs.s3a.endpoint\", \"http://minio:9000\") \\\n",
    "        .config(\"fs.s3a.access.key\", \"minioadmin\") \\\n",
    "        .config(\"fs.s3a.secret.key\", \"minioadmin\") \\\n",
    "        .config(\"fs.s3a.path.style.access\", \"true\") \\\n",
    "        .config(\"spark.hadoop.fs.s3a.impl\", \"org.apache.hadoop.fs.s3a.S3AFileSystem\") \\\n",
    "        .config(\"spark.hadoop.fs.s3a.aws.credentials.provider\", \"org.apache.hadoop.fs.s3a.SimpleAWSCredentialsProvider\") \\\n",
    "        .getOrCreate()"
   ]
  },
  {
   "cell_type": "code",
   "execution_count": 11,
   "metadata": {},
   "outputs": [
    {
     "name": "stdout",
     "output_type": "stream",
     "text": [
      "+--------------------+--------------------+--------------+------------------+----------------------+\n",
      "|    application_name|   translated_review|sentiment_rank|sentiment_polarity|sentiment_subjectivity|\n",
      "+--------------------+--------------------+--------------+------------------+----------------------+\n",
      "|10 Best Foods for...|This help eating ...|             1|              0.25|            0.28846154|\n",
      "|10 Best Foods for...|Works great espec...|             1|               0.4|                 0.875|\n",
      "|10 Best Foods for...|        Best idea us|             1|               1.0|                   0.3|\n",
      "|10 Best Foods for...|            Best way|             1|               1.0|                   0.3|\n",
      "|10 Best Foods for...|             Amazing|             1|               0.6|                   0.9|\n",
      "|10 Best Foods for...|Looking forward app,|             0|               0.0|                   0.0|\n",
      "+--------------------+--------------------+--------------+------------------+----------------------+\n",
      "only showing top 6 rows\n",
      "\n"
     ]
    }
   ],
   "source": [
    "# Load Data:\n",
    "# Load data from Parquet file into a DataFrame .\n",
    "# Here, the processed Google reviews data is loaded from a Parquet file into a DataFrame and\n",
    "# displayed.\n",
    "data_df = spark.read.parquet('s3a://spark/data/source/google_reviews/')\n",
    "data_df.show(6)\n"
   ]
  },
  {
   "cell_type": "code",
   "execution_count": 12,
   "metadata": {},
   "outputs": [
    {
     "name": "stdout",
     "output_type": "stream",
     "text": [
      "['{\"application_name\":\"10 Best Foods for You\",\"translated_review\":\"This help eating healthy exercise regular basis\",\"sentiment_rank\":1,\"sentiment_polarity\":0.25,\"sentiment_subjectivity\":0.28846154}', '{\"application_name\":\"10 Best Foods for You\",\"translated_review\":\"Works great especially going grocery store\",\"sentiment_rank\":1,\"sentiment_polarity\":0.4,\"sentiment_subjectivity\":0.875}', '{\"application_name\":\"10 Best Foods for You\",\"translated_review\":\"Best idea us\",\"sentiment_rank\":1,\"sentiment_polarity\":1.0,\"sentiment_subjectivity\":0.3}', '{\"application_name\":\"10 Best Foods for You\",\"translated_review\":\"Best way\",\"sentiment_rank\":1,\"sentiment_polarity\":1.0,\"sentiment_subjectivity\":0.3}', '{\"application_name\":\"10 Best Foods for You\",\"translated_review\":\"Amazing\",\"sentiment_rank\":1,\"sentiment_polarity\":0.6,\"sentiment_subjectivity\":0.9}', '{\"application_name\":\"10 Best Foods for You\",\"translated_review\":\"Looking forward app,\",\"sentiment_rank\":0,\"sentiment_polarity\":0.0,\"sentiment_subjectivity\":0.0}']\n"
     ]
    },
    {
     "name": "stderr",
     "output_type": "stream",
     "text": [
      "                                                                                \r"
     ]
    }
   ],
   "source": [
    "# Convert Data to JSON:\n",
    "data = data_df.toJSON ()\n",
    "print(data.take(6))\n",
    "\n",
    "#Each record in the DataFrame is converted to a JSON string, which is a suitable format for\n",
    "#sending messages to a Kafka topic. A sample of six JSON records is printed."
   ]
  },
  {
   "cell_type": "code",
   "execution_count": 13,
   "metadata": {},
   "outputs": [],
   "source": [
    "# Initialize Kafka Producer:\n",
    "#Set up a Kafka producer .\n",
    "producer = KafkaProducer(bootstrap_servers='course-kafka:9092', value_serializer=lambda v: v.encode('utf-8'))\n",
    "\n",
    "# A KafkaProducer instance is initialized to send messages to the Kafka cluster. The producer\n",
    "# will serialize the messages (JSON strings) into bytes using UTF-8 encoding."
   ]
  },
  {
   "cell_type": "code",
   "execution_count": 14,
   "metadata": {},
   "outputs": [
    {
     "ename": "KeyboardInterrupt",
     "evalue": "",
     "output_type": "error",
     "traceback": [
      "\u001b[0;31m---------------------------------------------------------------------------\u001b[0m",
      "\u001b[0;31mKeyboardInterrupt\u001b[0m                         Traceback (most recent call last)",
      "Cell \u001b[0;32mIn[14], line 8\u001b[0m\n\u001b[1;32m      6\u001b[0m     \u001b[38;5;28;01mif\u001b[39;00m i \u001b[38;5;241m==\u001b[39m \u001b[38;5;241m50\u001b[39m:\n\u001b[1;32m      7\u001b[0m         producer\u001b[38;5;241m.\u001b[39mflush()\n\u001b[0;32m----> 8\u001b[0m         \u001b[43mtime\u001b[49m\u001b[38;5;241;43m.\u001b[39;49m\u001b[43msleep\u001b[49m\u001b[43m(\u001b[49m\u001b[38;5;241;43m5\u001b[39;49m\u001b[43m)\u001b[49m\n\u001b[1;32m      9\u001b[0m         i \u001b[38;5;241m=\u001b[39m \u001b[38;5;241m0\u001b[39m\n\u001b[1;32m     10\u001b[0m \u001b[38;5;124;03m'''\u001b[39;00m\n\u001b[1;32m     11\u001b[0m \u001b[38;5;124;03mIn this loop, each JSON string is sent as a message to the gps-user-review-source Kafka topic. After\u001b[39;00m\n\u001b[1;32m     12\u001b[0m \u001b[38;5;124;03msending 50 messages, the producer buffers are flushed, ensuring that all messages are sent.\u001b[39;00m\n\u001b[1;32m     13\u001b[0m \u001b[38;5;124;03mThen the script waits for 10 seconds before resuming. This pattern is used to space out the\u001b[39;00m\n\u001b[1;32m     14\u001b[0m \u001b[38;5;124;03mmessage production, sending 50 messages every 10 seconds.\u001b[39;00m\n\u001b[1;32m     15\u001b[0m \u001b[38;5;124;03m'''\u001b[39;00m        \n",
      "\u001b[0;31mKeyboardInterrupt\u001b[0m: "
     ]
    }
   ],
   "source": [
    "\n",
    "# Produce Messages to Kafka Topic:\n",
    "i = 0\n",
    "\n",
    "for json_data in data.collect():\n",
    "    i = i + 1\n",
    "    producer.send(topic='gps-user-review-source', value=json_data)\n",
    "    if i == 50:\n",
    "        producer.flush()\n",
    "        time.sleep(5)\n",
    "        i = 0\n",
    "'''\n",
    "In this loop, each JSON string is sent as a message to the gps-user-review-source Kafka topic. After\n",
    "sending 50 messages, the producer buffers are flushed, ensuring that all messages are sent.\n",
    "Then the script waits for 10 seconds before resuming. This pattern is used to space out the\n",
    "message production, sending 50 messages every 10 seconds.\n",
    "'''        "
   ]
  },
  {
   "cell_type": "code",
   "execution_count": 15,
   "metadata": {},
   "outputs": [
    {
     "data": {
      "text/plain": [
       "' \\nAfter all messages have been sent, the Kafka producer is closed to release resources,\\nfollowed by terminating the SparkSession.\\n'"
      ]
     },
     "execution_count": 15,
     "metadata": {},
     "output_type": "execute_result"
    }
   ],
   "source": [
    "# Close Kafka Producer & Terminate SparkSession:\n",
    "producer.close()\n",
    "spark.stop()\n",
    "\n",
    "''' \n",
    "After all messages have been sent, the Kafka producer is closed to release resources,\n",
    "followed by terminating the SparkSession.\n",
    "'''"
   ]
  },
  {
   "cell_type": "code",
   "execution_count": null,
   "metadata": {},
   "outputs": [],
   "source": [
    "# Summery\n",
    "\n",
    "'''\n",
    "    This solution reads the processed Google Reviews data, converts it to JSON, and then\n",
    "    produces the messages to a Kafka topic in batches of 50, with a 10-second interval between\n",
    "    batches.\n",
    "\n",
    "'''"
   ]
  }
 ],
 "metadata": {
  "kernelspec": {
   "display_name": "Python 3 (ipykernel)",
   "language": "python",
   "name": "python3"
  },
  "language_info": {
   "codemirror_mode": {
    "name": "ipython",
    "version": 3
   },
   "file_extension": ".py",
   "mimetype": "text/x-python",
   "name": "python",
   "nbconvert_exporter": "python",
   "pygments_lexer": "ipython3",
   "version": "3.10.7"
  }
 },
 "nbformat": 4,
 "nbformat_minor": 4
}
