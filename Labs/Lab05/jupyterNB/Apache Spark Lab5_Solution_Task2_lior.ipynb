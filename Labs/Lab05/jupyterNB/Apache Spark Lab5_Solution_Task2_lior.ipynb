{
 "cells": [
  {
   "cell_type": "code",
   "execution_count": 1,
   "metadata": {},
   "outputs": [],
   "source": [
    "# Import Modules & Set Environment Variables:\n",
    "from pyspark.sql import SparkSession\n",
    "from pyspark.sql import functions as F\n",
    "from pyspark.sql import Row\n",
    "from pyspark.sql import types as T\n"
   ]
  },
  {
   "cell_type": "code",
   "execution_count": 2,
   "metadata": {},
   "outputs": [
    {
     "name": "stderr",
     "output_type": "stream",
     "text": [
      "Setting default log level to \"WARN\".\n",
      "To adjust logging level use sc.setLogLevel(newLevel). For SparkR, use setLogLevel(newLevel).\n",
      "24/09/24 06:35:03 WARN NativeCodeLoader: Unable to load native-hadoop library for your platform... using builtin-java classes where applicable\n"
     ]
    }
   ],
   "source": [
    "# Initialize SparkSession:\n",
    "# A new SparkSession is created with the name 'ex5_google_reviews', using a single local node.\n",
    "spark = SparkSession.builder.master(\"local\").appName('ex5_google_reviews').getOrCreate()"
   ]
  },
  {
   "cell_type": "code",
   "execution_count": 3,
   "metadata": {},
   "outputs": [
    {
     "name": "stdout",
     "output_type": "stream",
     "text": [
      "[Row(Sentiment='Positive', sentiment_rank=1), Row(Sentiment='Neutral', sentiment_rank=0), Row(Sentiment='Negative', sentiment_rank=-1)]\n"
     ]
    }
   ],
   "source": [
    "# Setting Up Sentiment Mapping:\n",
    "# This sets up an array of Row objects to map the sentiment to respective ranks.\n",
    "sentiment_arr = [Row(Sentiment='Positive', sentiment_rank=1),\n",
    "Row(Sentiment='Neutral', sentiment_rank=0),\n",
    "Row(Sentiment='Negative', sentiment_rank=-1)]\n",
    "print(sentiment_arr)"
   ]
  },
  {
   "cell_type": "code",
   "execution_count": 4,
   "metadata": {},
   "outputs": [
    {
     "name": "stderr",
     "output_type": "stream",
     "text": [
      "24/09/24 06:35:13 WARN MetricsConfig: Cannot locate configuration: tried hadoop-metrics2-s3a-file-system.properties,hadoop-metrics2.properties\n"
     ]
    },
    {
     "name": "stdout",
     "output_type": "stream",
     "text": [
      "+--------------------+--------------------+--------------------+------------------+----------------------+\n",
      "|                 App|   Translated_Review|           Sentiment|Sentiment_Polarity|Sentiment_Subjectivity|\n",
      "+--------------------+--------------------+--------------------+------------------+----------------------+\n",
      "|10 Best Foods for...|\"I like eat delic...| also \"\"Best Befo...|          Positive|                   1.0|\n",
      "|10 Best Foods for...|This help eating ...|            Positive|              0.25|   0.28846153846153844|\n",
      "|10 Best Foods for...|                 nan|                 nan|               nan|                   nan|\n",
      "|10 Best Foods for...|Works great espec...|            Positive|               0.4|                 0.875|\n",
      "|10 Best Foods for...|        Best idea us|            Positive|               1.0|                   0.3|\n",
      "|10 Best Foods for...|            Best way|            Positive|               1.0|                   0.3|\n",
      "+--------------------+--------------------+--------------------+------------------+----------------------+\n",
      "only showing top 6 rows\n",
      "\n"
     ]
    }
   ],
   "source": [
    "# Data Loading\n",
    "# Load the Google Reviews CSV data into a DataFrame.\n",
    "google_reviews_df = spark.read.csv('s3a://spark/data/raw/google_reviews/', header=True)\n",
    "google_reviews_df.show(6)"
   ]
  },
  {
   "cell_type": "code",
   "execution_count": 5,
   "metadata": {},
   "outputs": [
    {
     "name": "stdout",
     "output_type": "stream",
     "text": [
      "+---------+--------------+\n",
      "|Sentiment|sentiment_rank|\n",
      "+---------+--------------+\n",
      "| Positive|             1|\n",
      "|  Neutral|             0|\n",
      "| Negative|            -1|\n",
      "+---------+--------------+\n",
      "\n"
     ]
    }
   ],
   "source": [
    "# Creating Sentiment DataFrame:\n",
    "##Convert the sentiment array to a DataFrame .\n",
    "# This section turns the sentiment mapping array into a DataFrame and displays its content.\n",
    "sentiments_df = spark.createDataFrame(sentiment_arr)\n",
    "sentiments_df.show()\n"
   ]
  },
  {
   "cell_type": "code",
   "execution_count": 7,
   "metadata": {},
   "outputs": [],
   "source": [
    "# Joining DataFrames:\n",
    "\n",
    "# Join the sentiments_df with the main reviews DataFrame based on the 'Sentiment' column.\n",
    "\n",
    "# The Google reviews data is joined with the sentiment mapping DataFrame. A broadcast join\n",
    "# is utilized to replicate the smaller DataFrame (sentiments_df) across all nodes to speed up\n",
    "# the join.\n",
    "\n",
    "joined_df = google_reviews_df.join(F.broadcast(sentiments_df), ['Sentiment'])"
   ]
  },
  {
   "cell_type": "code",
   "execution_count": 8,
   "metadata": {},
   "outputs": [],
   "source": [
    "# Data Transformation & Cleaning:\n",
    "\n",
    "# Data is transformed to:\n",
    "# 1.Extract and rename relevant columns. 2. Cast 'Sentiment_Polarity' and 'Sentiment_Subjectivity' columns to float type.\n",
    "\n",
    "selected_df = joined_df \\\n",
    ".select(F.col('App').alias('application_name'),\n",
    "F.col('Translated_Review').alias('translated_review') ,\n",
    "F.col('sentiment_rank'),\n",
    "F.col('Sentiment_Polarity').cast(T.FloatType()).alias('sentiment_polarity') ,\n",
    "F.col('Sentiment_Subjectivity').cast(T.FloatType()).alias('sentiment_subjectivity'))\n"
   ]
  },
  {
   "cell_type": "code",
   "execution_count": 9,
   "metadata": {},
   "outputs": [
    {
     "name": "stdout",
     "output_type": "stream",
     "text": [
      "+--------------------+--------------------+--------------+------------------+----------------------+\n",
      "|    application_name|   translated_review|sentiment_rank|sentiment_polarity|sentiment_subjectivity|\n",
      "+--------------------+--------------------+--------------+------------------+----------------------+\n",
      "|10 Best Foods for...|This help eating ...|             1|              0.25|            0.28846154|\n",
      "|10 Best Foods for...|Works great espec...|             1|               0.4|                 0.875|\n",
      "|10 Best Foods for...|        Best idea us|             1|               1.0|                   0.3|\n",
      "|10 Best Foods for...|            Best way|             1|               1.0|                   0.3|\n",
      "|10 Best Foods for...|             Amazing|             1|               0.6|                   0.9|\n",
      "|10 Best Foods for...|Looking forward app,|             0|               0.0|                   0.0|\n",
      "|10 Best Foods for...|It helpful site !...|             0|               0.0|                   0.0|\n",
      "|10 Best Foods for...|           good you.|             1|               0.7|                   0.6|\n",
      "|10 Best Foods for...|Useful informatio...|             1|               0.2|                   0.1|\n",
      "|10 Best Foods for...|Thank you! Great ...|             1|              0.75|                 0.875|\n",
      "|10 Best Foods for...|Greatest ever Com...|             1|         0.9921875|             0.8666667|\n",
      "|10 Best Foods for...|Good health.........|             1|              0.55|            0.51111114|\n",
      "|10 Best Foods for...|Health It's impor...|             1|              0.45|                   1.0|\n",
      "|10 Best Foods for...|Mrs sunita bhati ...|             1|               0.6|             0.6666667|\n",
      "|10 Best Foods for...|Very Useful in di...|             1|             0.295|                   0.1|\n",
      "|10 Best Foods for...|  One greatest apps.|             1|               1.0|                   1.0|\n",
      "|10 Best Foods for...|           good nice|             1|              0.65|                   0.8|\n",
      "|10 Best Foods for...|Healthy Really he...|             1|              0.35|                  0.35|\n",
      "|10 Best Foods for...|          God health|             0|               0.0|                   0.0|\n",
      "|10 Best Foods for...|HEALTH SHOULD ALW...|             1|           0.78125|                   0.5|\n",
      "+--------------------+--------------------+--------------+------------------+----------------------+\n",
      "only showing top 20 rows\n",
      "\n",
      "root\n",
      " |-- application_name: string (nullable = true)\n",
      " |-- translated_review: string (nullable = true)\n",
      " |-- sentiment_rank: long (nullable = true)\n",
      " |-- sentiment_polarity: float (nullable = true)\n",
      " |-- sentiment_subjectivity: float (nullable = true)\n",
      "\n"
     ]
    },
    {
     "name": "stderr",
     "output_type": "stream",
     "text": [
      "                                                                                \r"
     ]
    }
   ],
   "source": [
    "# Display & Save Data:\n",
    "\n",
    "# Display the transformed data and its schema.\n",
    "selected_df.show()\n",
    "selected_df.printSchema()\n",
    "# Save the processed data into a Parquet file.\n",
    "selected_df.write.parquet('s3a://spark/data/source/google_reviews', mode='overwrite')\n",
    "spark.stop()\n",
    "\n",
    "''' \n",
    "This portion of the code presents the transformed data, its schema, and then writes the\n",
    "results to a Parquet file. If the destination file already exists, it will be overwritten.\n",
    "The SparkSession is closed to free up resources.\n",
    "\n",
    "Summery:\n",
    "This solution processes Google Reviews data, extracting sentiment analysis metrics, and\n",
    "then saves the cleaned and transformed data into an optimized Parquet format.\n",
    "\n",
    "'''"
   ]
  },
  {
   "cell_type": "code",
   "execution_count": null,
   "metadata": {},
   "outputs": [],
   "source": [
    "# Full code solution\n",
    "from pyspark.sql import SparkSession\n",
    "from pyspark.sql import functions as F\n",
    "from pyspark.sql import Row\n",
    "from pyspark.sql import types as T\n",
    "spark = SparkSession.builder.master(\"local\").appName('ex5_google_reviews').getOrCreate()\n",
    "sentiment_arr = [Row(Sentiment='Positive', sentiment_rank=1),\n",
    "Row(Sentiment='Neutral', sentiment_rank=0),\n",
    "Row(Sentiment='Negative', sentiment_rank=-1)]\n",
    "print(sentiment_arr)\n",
    "google_reviews_df = spark.read.csv('s3a://spark/data/raw/google_reviews/', header=True)\n",
    "google_reviews_df.show(6)\n",
    "sentiments_df = spark.createDataFrame(sentiment_arr)\n",
    "sentiments_df.show()\n",
    "joined_df = google_reviews_df.join(F.broadcast(sentiments_df), ['Sentiment'])\n",
    "selected_df = joined_df \\\n",
    ".select(F.col('App').alias('application_name'),\n",
    "F.col('Translated_Review').alias('translated_review'),\n",
    "F.col('sentiment_rank'),\n",
    "F.col('Sentiment_Polarity').cast(T.FloatType()).alias('sentiment_polarity'),\n",
    "F.col('Sentiment_Subjectivity').cast(T.FloatType()).alias('sentiment_subjectivity'))\n",
    "selected_df.show()\n",
    "selected_df.printSchema()\n",
    "selected_df.write.parquet('s3a://spark/data/source/google_reviews', mode='overwrite')\n",
    "spark.stop()"
   ]
  }
 ],
 "metadata": {
  "kernelspec": {
   "display_name": "Python 3",
   "language": "python",
   "name": "python3"
  },
  "language_info": {
   "codemirror_mode": {
    "name": "ipython",
    "version": 3
   },
   "file_extension": ".py",
   "mimetype": "text/x-python",
   "name": "python",
   "nbconvert_exporter": "python",
   "pygments_lexer": "ipython3",
   "version": "3.10.7"
  },
  "orig_nbformat": 4
 },
 "nbformat": 4,
 "nbformat_minor": 2
}
