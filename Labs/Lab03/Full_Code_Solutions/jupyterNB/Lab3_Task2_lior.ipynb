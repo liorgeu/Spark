{
 "cells": [
  {
   "cell_type": "code",
   "execution_count": null,
   "metadata": {},
   "outputs": [],
   "source": [
    "\n",
    "from pyspark.sql import SparkSession\n",
    "from pyspark.sql import functions as F\n",
    "from pyspark.sql import types as T\n",
    "from datetime import date, timedelta\n",
    "from pyspark.sql import Row\n",
    "\n",
    "\n",
    "def get_dates_df():\n",
    "    dummy_df = spark.createDataFrame([Row(dummy='x')])\n",
    "    in_dates_df = dummy_df.select(F.explode(F.sequence(F.lit(\"2020-01-01\").cast(T.DateType()), F.lit(\"2020-12-31\").cast(T.DateType()))).alias(\"flight_date\"))\n",
    "\n",
    "    return in_dates_df\n",
    "\n",
    "\n",
    "spark = SparkSession.builder.master(\"local[*]\").appName('ex3_add_dates').getOrCreate()\n",
    "\n",
    "flights_df = spark.read.parquet('s3a://spark/data/stg/flight_matched/')\n",
    "dates_df = get_dates_df()\n",
    "\n",
    "dates_full_df = dates_df \\\n",
    "    .withColumn('day_of_week', F.dayofweek(F.col('flight_date'))) \\\n",
    "    .withColumn('day_of_month', F.dayofmonth(F.col('flight_date')))\n",
    "\n",
    "max_date_df = dates_full_df \\\n",
    "    .groupBy(F.col('day_of_week'), F.col('day_of_month')) \\\n",
    "    .agg(F.max(F.col('flight_date')).alias('flight_date'))\n",
    "\n",
    "enriched_flights_df = flights_df.join(max_date_df, ['day_of_week', 'day_of_month'])\n",
    "\n",
    "enriched_flights_df.write.parquet('s3a://spark/data/transformed/flights/',mode='overwrite')\n",
    "\n",
    "spark.stop()\n"
   ]
  },
  {
   "cell_type": "code",
   "execution_count": 1,
   "metadata": {},
   "outputs": [],
   "source": [
    "from pyspark.sql import SparkSession\n",
    "from pyspark.sql import functions as F\n",
    "from pyspark.sql import types as T\n",
    "from datetime import date, timedelta\n",
    "from pyspark.sql import Row"
   ]
  },
  {
   "cell_type": "code",
   "execution_count": 23,
   "metadata": {},
   "outputs": [],
   "source": [
    "spark = SparkSession.builder.master(\"local[*]\").appName('ex3_add_dates').getOrCreate()\n",
    "\n",
    "def get_dates_df():\n",
    "    dummy_df = spark.createDataFrame([Row(dummy='x')])\n",
    "    # dummy_df.show()\n",
    "    in_dates_df = dummy_df.select(F.explode(F.sequence(F.lit(\"2020-01-01\").cast(T.DateType()), F.lit(\"2020-12-31\").cast(T.DateType()))).alias(\"flight_date\"))\n",
    "    # in_dates_df.show()\n",
    "\n",
    "    return in_dates_df"
   ]
  },
  {
   "cell_type": "code",
   "execution_count": 21,
   "metadata": {},
   "outputs": [
    {
     "name": "stderr",
     "output_type": "stream",
     "text": [
      "                                                                                \r"
     ]
    },
    {
     "name": "stdout",
     "output_type": "stream",
     "text": [
      "+-----+\n",
      "|dummy|\n",
      "+-----+\n",
      "|    x|\n",
      "+-----+\n",
      "\n",
      "+-----------+\n",
      "|flight_date|\n",
      "+-----------+\n",
      "| 2020-01-01|\n",
      "| 2020-01-02|\n",
      "| 2020-01-03|\n",
      "| 2020-01-04|\n",
      "| 2020-01-05|\n",
      "| 2020-01-06|\n",
      "| 2020-01-07|\n",
      "| 2020-01-08|\n",
      "| 2020-01-09|\n",
      "| 2020-01-10|\n",
      "| 2020-01-11|\n",
      "| 2020-01-12|\n",
      "| 2020-01-13|\n",
      "| 2020-01-14|\n",
      "| 2020-01-15|\n",
      "| 2020-01-16|\n",
      "| 2020-01-17|\n",
      "| 2020-01-18|\n",
      "| 2020-01-19|\n",
      "| 2020-01-20|\n",
      "+-----------+\n",
      "only showing top 20 rows\n",
      "\n"
     ]
    },
    {
     "name": "stderr",
     "output_type": "stream",
     "text": [
      "                                                                                \r"
     ]
    }
   ],
   "source": [
    "dummy_df1 = get_dates_df()"
   ]
  },
  {
   "cell_type": "code",
   "execution_count": 13,
   "metadata": {},
   "outputs": [],
   "source": [
    "s = F.sequence(F.lit(\"2020-01-01\").cast(T.DateType()), F.lit(\"2020-12-31\").cast(T.DateType()))"
   ]
  },
  {
   "cell_type": "code",
   "execution_count": 16,
   "metadata": {},
   "outputs": [
    {
     "data": {
      "text/plain": [
       "Column<'sequence(CAST(2020-01-01 AS DATE), CAST(2020-12-31 AS DATE))'>"
      ]
     },
     "execution_count": 16,
     "metadata": {},
     "output_type": "execute_result"
    }
   ],
   "source": [
    "s"
   ]
  },
  {
   "cell_type": "code",
   "execution_count": 19,
   "metadata": {},
   "outputs": [
    {
     "name": "stdout",
     "output_type": "stream",
     "text": [
      "+-----+\n",
      "|dummy|\n",
      "+-----+\n",
      "|    x|\n",
      "+-----+\n",
      "\n"
     ]
    }
   ],
   "source": [
    "# Step 1: Generate the sequence of dates\n",
    "s = F.sequence(F.lit(\"2020-01-01\").cast(T.DateType()), F.lit(\"2020-12-31\").cast(T.DateType()))\n",
    "\n",
    "# Step 2: Create a dummy DataFrame with a single row\n",
    "dummy_df = spark.createDataFrame([Row(dummy='x')])\n",
    "dummy_df.show()\n",
    "\n"
   ]
  },
  {
   "cell_type": "code",
   "execution_count": 20,
   "metadata": {},
   "outputs": [
    {
     "name": "stdout",
     "output_type": "stream",
     "text": [
      "+--------------------+\n",
      "|       date_sequence|\n",
      "+--------------------+\n",
      "|[2020-01-01, 2020...|\n",
      "+--------------------+\n",
      "\n"
     ]
    }
   ],
   "source": [
    "# Step 3: Add the sequence as a column in the DataFrame\n",
    "df_with_sequence = dummy_df.select(s.alias(\"date_sequence\"))\n",
    "\n",
    "df_with_sequence.show()\n",
    "\n"
   ]
  },
  {
   "cell_type": "code",
   "execution_count": null,
   "metadata": {},
   "outputs": [],
   "source": [
    "# Step 4: Explode the date sequence to turn it into individual rows\n",
    "exploded_dates_df = df_with_sequence.select(F.explode(\"date_sequence\").alias(\"date\"))\n",
    "\n",
    "# Step 5: Show the result (this will print the sequence of dates)\n",
    "exploded_dates_df.show(truncate=False)"
   ]
  },
  {
   "cell_type": "code",
   "execution_count": 27,
   "metadata": {},
   "outputs": [
    {
     "name": "stdout",
     "output_type": "stream",
     "text": [
      "+------------+-----------+-------+-----------------+---------------+---------+---------+\n",
      "|day_of_month|day_of_week|carrier|origin_airport_id|dest_airport_id|dep_delay|arr_delay|\n",
      "+------------+-----------+-------+-----------------+---------------+---------+---------+\n",
      "|          18|          4|     DL|            11278|          14869|        1|        3|\n",
      "|          19|          5|     DL|            11433|          14869|        1|       -2|\n",
      "|          19|          5|     DL|            11433|          10721|       -3|      -12|\n",
      "|          19|          5|     DL|            14730|          10397|       85|       95|\n",
      "|          16|          2|     DL|            12889|          10397|       -2|      -17|\n",
      "|          17|          3|     DL|            11433|          11298|       -5|       -3|\n",
      "|          18|          4|     DL|            12478|          14107|       -1|      -18|\n",
      "|          18|          4|     DL|            11618|          10397|       -2|       -6|\n",
      "|          18|          4|     DL|            10397|          13244|       -5|        2|\n",
      "|          18|          4|     DL|            14730|          10397|       -3|      -16|\n",
      "|          18|          4|     DL|            11433|          13487|       -1|       -2|\n",
      "|          20|          6|     DL|            13198|          10397|       -5|      -10|\n",
      "|          20|          6|     DL|            12892|          14869|       -6|       -2|\n",
      "|          20|          6|     DL|            11433|          10529|       21|       16|\n",
      "|          20|          6|     DL|            10821|          10397|      -14|      -17|\n",
      "|          20|          6|     DL|            14908|          10397|       -6|      -22|\n",
      "|          22|          1|     DL|            10397|          13244|       -3|      -10|\n",
      "|          20|          6|     DL|            13244|          10397|        6|       -1|\n",
      "|          21|          7|     DL|            11278|          10397|        0|       10|\n",
      "|          21|          7|     DL|            12478|          13303|       -2|       -6|\n",
      "+------------+-----------+-------+-----------------+---------------+---------+---------+\n",
      "only showing top 20 rows\n",
      "\n",
      "+-----------+\n",
      "|flight_date|\n",
      "+-----------+\n",
      "| 2020-01-01|\n",
      "| 2020-01-02|\n",
      "| 2020-01-03|\n",
      "| 2020-01-04|\n",
      "| 2020-01-05|\n",
      "| 2020-01-06|\n",
      "| 2020-01-07|\n",
      "| 2020-01-08|\n",
      "| 2020-01-09|\n",
      "| 2020-01-10|\n",
      "| 2020-01-11|\n",
      "| 2020-01-12|\n",
      "| 2020-01-13|\n",
      "| 2020-01-14|\n",
      "| 2020-01-15|\n",
      "| 2020-01-16|\n",
      "| 2020-01-17|\n",
      "| 2020-01-18|\n",
      "| 2020-01-19|\n",
      "| 2020-01-20|\n",
      "+-----------+\n",
      "only showing top 20 rows\n",
      "\n"
     ]
    }
   ],
   "source": [
    "flights_df = spark.read.parquet('s3a://spark/data/stg/flight_matched/')\n",
    "flights_df.show()\n",
    "dates_df = get_dates_df()\n",
    "dates_df.show()\n",
    "\n"
   ]
  },
  {
   "cell_type": "code",
   "execution_count": 28,
   "metadata": {},
   "outputs": [
    {
     "name": "stdout",
     "output_type": "stream",
     "text": [
      "+-----------+-----------+------------+\n",
      "|flight_date|day_of_week|day_of_month|\n",
      "+-----------+-----------+------------+\n",
      "| 2020-01-01|          4|           1|\n",
      "| 2020-01-02|          5|           2|\n",
      "| 2020-01-03|          6|           3|\n",
      "| 2020-01-04|          7|           4|\n",
      "| 2020-01-05|          1|           5|\n",
      "| 2020-01-06|          2|           6|\n",
      "| 2020-01-07|          3|           7|\n",
      "| 2020-01-08|          4|           8|\n",
      "| 2020-01-09|          5|           9|\n",
      "| 2020-01-10|          6|          10|\n",
      "| 2020-01-11|          7|          11|\n",
      "| 2020-01-12|          1|          12|\n",
      "| 2020-01-13|          2|          13|\n",
      "| 2020-01-14|          3|          14|\n",
      "| 2020-01-15|          4|          15|\n",
      "| 2020-01-16|          5|          16|\n",
      "| 2020-01-17|          6|          17|\n",
      "| 2020-01-18|          7|          18|\n",
      "| 2020-01-19|          1|          19|\n",
      "| 2020-01-20|          2|          20|\n",
      "+-----------+-----------+------------+\n",
      "only showing top 20 rows\n",
      "\n"
     ]
    }
   ],
   "source": [
    "dates_full_df = dates_df \\\n",
    "    .withColumn('day_of_week', F.dayofweek(F.col('flight_date'))) \\\n",
    "    .withColumn('day_of_month', F.dayofmonth(F.col('flight_date')))\n",
    "\n",
    "dates_full_df.show()"
   ]
  },
  {
   "cell_type": "code",
   "execution_count": 29,
   "metadata": {},
   "outputs": [
    {
     "name": "stderr",
     "output_type": "stream",
     "text": [
      "                                                                                \r"
     ]
    },
    {
     "name": "stdout",
     "output_type": "stream",
     "text": [
      "+-----------+------------+-----------+\n",
      "|day_of_week|day_of_month|flight_date|\n",
      "+-----------+------------+-----------+\n",
      "|          3|          22| 2020-12-22|\n",
      "|          3|          30| 2020-06-30|\n",
      "|          3|          15| 2020-12-15|\n",
      "|          7|          21| 2020-11-21|\n",
      "|          5|          16| 2020-07-16|\n",
      "|          6|          20| 2020-11-20|\n",
      "|          4|          10| 2020-06-10|\n",
      "|          6|           1| 2020-05-01|\n",
      "|          3|           1| 2020-12-01|\n",
      "|          7|           4| 2020-07-04|\n",
      "|          2|           2| 2020-11-02|\n",
      "|          6|          22| 2020-05-22|\n",
      "|          1|          25| 2020-10-25|\n",
      "|          6|          25| 2020-12-25|\n",
      "|          2|          26| 2020-10-26|\n",
      "|          3|          13| 2020-10-13|\n",
      "|          7|          31| 2020-10-31|\n",
      "|          7|          14| 2020-11-14|\n",
      "|          2|          19| 2020-10-19|\n",
      "|          7|          25| 2020-07-25|\n",
      "+-----------+------------+-----------+\n",
      "only showing top 20 rows\n",
      "\n"
     ]
    },
    {
     "name": "stderr",
     "output_type": "stream",
     "text": [
      "                                                                                \r"
     ]
    }
   ],
   "source": [
    "max_date_df = dates_full_df \\\n",
    "    .groupBy(F.col('day_of_week'), F.col('day_of_month')) \\\n",
    "    .agg(F.max(F.col('flight_date')).alias('flight_date'))\n",
    "\n",
    "max_date_df.show()\n",
    "\n",
    "enriched_flights_df = flights_df.join(max_date_df, ['day_of_week', 'day_of_month'])\n",
    "\n",
    "enriched_flights_df.write.parquet('s3a://spark/data/transformed/flights/',mode='overwrite')\n",
    "\n",
    "spark.stop()"
   ]
  },
  {
   "cell_type": "code",
   "execution_count": null,
   "metadata": {},
   "outputs": [],
   "source": []
  }
 ],
 "metadata": {
  "kernelspec": {
   "display_name": "Python 3",
   "language": "python",
   "name": "python3"
  },
  "language_info": {
   "codemirror_mode": {
    "name": "ipython",
    "version": 3
   },
   "file_extension": ".py",
   "mimetype": "text/x-python",
   "name": "python",
   "nbconvert_exporter": "python",
   "pygments_lexer": "ipython3",
   "version": "3.10.7"
  },
  "orig_nbformat": 4
 },
 "nbformat": 4,
 "nbformat_minor": 2
}
