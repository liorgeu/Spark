{
 "cells": [
  {
   "cell_type": "code",
   "execution_count": null,
   "metadata": {},
   "outputs": [],
   "source": []
  },
  {
   "cell_type": "code",
   "execution_count": 1,
   "metadata": {},
   "outputs": [
    {
     "name": "stderr",
     "output_type": "stream",
     "text": [
      "Setting default log level to \"WARN\".\n",
      "To adjust logging level use sc.setLogLevel(newLevel). For SparkR, use setLogLevel(newLevel).\n",
      "24/09/30 09:50:40 WARN NativeCodeLoader: Unable to load native-hadoop library for your platform... using builtin-java classes where applicable\n",
      "                                                                                \r"
     ]
    },
    {
     "name": "stdout",
     "output_type": "stream",
     "text": [
      "+--------+---------+---------+\n",
      "|model_id|car_brand|car_model|\n",
      "+--------+---------+---------+\n",
      "|       1|    Mazda|        3|\n",
      "|       2|    Mazda|        6|\n",
      "|       3|   Toyota|  Corolla|\n",
      "|       4|  Hyundai|      i20|\n",
      "|       5|      Kia| Sportage|\n",
      "|       6|      Kia|      Rio|\n",
      "|       7|      Kia|  Picanto|\n",
      "+--------+---------+---------+\n",
      "\n",
      "root\n",
      " |-- model_id: integer (nullable = true)\n",
      " |-- car_brand: string (nullable = true)\n",
      " |-- car_model: string (nullable = true)\n",
      "\n"
     ]
    },
    {
     "name": "stderr",
     "output_type": "stream",
     "text": [
      "24/09/30 09:50:45 WARN MetricsConfig: Cannot locate configuration: tried hadoop-metrics2-s3a-file-system.properties,hadoop-metrics2.properties\n",
      "                                                                                \r"
     ]
    }
   ],
   "source": [
    "from pyspark.sql import SparkSession\n",
    "from pyspark.sql.types import StructType, StructField, IntegerType, StringType\n",
    "\n",
    "# Create a Spark session\n",
    "spark = SparkSession \\\n",
    "    .builder \\\n",
    "    .master(\"local\")\\\n",
    "    .appName('model_table') \\\n",
    "    .getOrCreate()\n",
    "\n",
    "# Define the schema for the DataFrame\n",
    "schema = StructType([\n",
    "    StructField(\"model_id\", IntegerType(), True),\n",
    "    StructField(\"car_brand\", StringType(), True),\n",
    "    StructField(\"car_model\", StringType(), True)\n",
    "])\n",
    "\n",
    "# Define the data\n",
    "data = [\n",
    "    (1, \"Mazda\", \"3\"),\n",
    "    (2, \"Mazda\", \"6\"),\n",
    "    (3, \"Toyota\", \"Corolla\"),\n",
    "    (4, \"Hyundai\", \"i20\"),\n",
    "    (5, \"Kia\", \"Sportage\"),\n",
    "    (6, \"Kia\", \"Rio\"),\n",
    "    (7, \"Kia\", \"Picanto\")\n",
    "]\n",
    "\n",
    "# Create a DataFrame\n",
    "df = spark.createDataFrame(data, schema=schema)\n",
    "\n",
    "# # Show the DataFrame\n",
    "df.show()\n",
    "df.printSchema()\n",
    "\n",
    "# Write to S3\n",
    "df.write.parquet('s3a://spark/data/car_models', mode='overwrite')\n",
    "spark.stop()\n",
    "\n",
    "\n",
    "\n",
    "\n",
    "\n"
   ]
  }
 ],
 "metadata": {
  "kernelspec": {
   "display_name": "Python 3",
   "language": "python",
   "name": "python3"
  },
  "language_info": {
   "codemirror_mode": {
    "name": "ipython",
    "version": 3
   },
   "file_extension": ".py",
   "mimetype": "text/x-python",
   "name": "python",
   "nbconvert_exporter": "python",
   "pygments_lexer": "ipython3",
   "version": "3.10.7"
  },
  "orig_nbformat": 4
 },
 "nbformat": 4,
 "nbformat_minor": 2
}
