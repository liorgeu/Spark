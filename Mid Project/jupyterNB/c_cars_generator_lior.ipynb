{
 "cells": [
  {
   "cell_type": "code",
   "execution_count": 1,
   "metadata": {},
   "outputs": [
    {
     "name": "stderr",
     "output_type": "stream",
     "text": [
      "Setting default log level to \"WARN\".\n",
      "To adjust logging level use sc.setLogLevel(newLevel). For SparkR, use setLogLevel(newLevel).\n",
      "24/09/30 10:16:48 WARN NativeCodeLoader: Unable to load native-hadoop library for your platform... using builtin-java classes where applicable\n"
     ]
    },
    {
     "name": "stdout",
     "output_type": "stream",
     "text": [
      "+-------+---------+--------+--------+\n",
      "| car_id|driver_id|model_id|color_id|\n",
      "+-------+---------+--------+--------+\n",
      "|7577767|745486029|       6|       4|\n",
      "|1795964|538626499|       1|       3|\n",
      "|6090836|766428924|       3|       3|\n",
      "|3124006|177119983|       3|       5|\n",
      "|5583503|911634586|       3|       3|\n",
      "|4488770|318849604|       2|       4|\n",
      "|5817020|467303765|       2|       4|\n",
      "|6815898|582901285|       2|       5|\n",
      "|4352035|816304454|       2|       6|\n",
      "|4574332|875547312|       1|       1|\n",
      "|3133822|629872405|       6|       5|\n",
      "|6037962|924135780|       4|       3|\n",
      "|5257866|719366021|       6|       1|\n",
      "|5747789|438664501|       5|       3|\n",
      "|9429263|944658691|       1|       2|\n",
      "|2096044|817796163|       2|       3|\n",
      "|2044505|217716052|       6|       6|\n",
      "|9465229|528082188|       6|       3|\n",
      "|1915917|173713211|       6|       4|\n",
      "|6440338|920151987|       6|       5|\n",
      "+-------+---------+--------+--------+\n",
      "\n"
     ]
    },
    {
     "name": "stderr",
     "output_type": "stream",
     "text": [
      "24/09/30 10:16:53 WARN MetricsConfig: Cannot locate configuration: tried hadoop-metrics2-s3a-file-system.properties,hadoop-metrics2.properties\n",
      "                                                                                \r"
     ]
    }
   ],
   "source": [
    "from pyspark.sql import SparkSession\n",
    "from pyspark.sql.types import StructType, StructField, IntegerType, LongType\n",
    "from pyspark.sql.functions import expr\n",
    "\n",
    "# Create a Spark session\n",
    "spark = SparkSession \\\n",
    "    .builder \\\n",
    "    .master(\"local\") \\\n",
    "    .appName('cars_generator') \\\n",
    "    .getOrCreate()\n",
    "\n",
    "# Generate 20 cars based on the specified data logic\n",
    "num_cars = 20\n",
    "\n",
    "# Define the schema for the car DataFrame\n",
    "car_schema = StructType([\n",
    "    StructField(\"car_id\", IntegerType(), True),\n",
    "    StructField(\"driver_id\", LongType(), True),\n",
    "    StructField(\"model_id\", IntegerType(), True),\n",
    "    StructField(\"color_id\", IntegerType(), True)\n",
    "])\n",
    "\n",
    "# Create the car DataFrame with random data\n",
    "car_df = spark.range(num_cars) \\\n",
    "    .withColumn(\"car_id\", expr(\"CAST(rand() * 9000000 + 1000000 AS INT)\")) \\\n",
    "    .withColumn(\"driver_id\", expr(\"CAST(rand() * 900000000 + 100000000 AS LONG)\")) \\\n",
    "    .withColumn(\"model_id\", expr(\"CAST(rand() * 6 + 1 AS INT)\")) \\\n",
    "    .withColumn(\"color_id\", expr(\"CAST(rand() * 6 + 1 AS INT)\")) \\\n",
    "    .select(\"car_id\", \"driver_id\", \"model_id\", \"color_id\")\n",
    "\n",
    "# # Show the car DataFrame\n",
    "car_df.show()\n",
    "# car_df.printSchema()\n",
    "\n",
    "# Write the car DataFrame to Parquet format\n",
    "car_df.write.parquet('s3a://spark/data/cars', mode='overwrite')\n",
    "\n",
    "# Stop the Spark session\n",
    "spark.stop()\n"
   ]
  }
 ],
 "metadata": {
  "kernelspec": {
   "display_name": "Python 3",
   "language": "python",
   "name": "python3"
  },
  "language_info": {
   "codemirror_mode": {
    "name": "ipython",
    "version": 3
   },
   "file_extension": ".py",
   "mimetype": "text/x-python",
   "name": "python",
   "nbconvert_exporter": "python",
   "pygments_lexer": "ipython3",
   "version": "3.10.7"
  },
  "orig_nbformat": 4
 },
 "nbformat": 4,
 "nbformat_minor": 2
}
