{
 "cells": [
  {
   "cell_type": "code",
   "execution_count": 1,
   "metadata": {},
   "outputs": [
    {
     "name": "stderr",
     "output_type": "stream",
     "text": [
      "Setting default log level to \"WARN\".\n",
      "To adjust logging level use sc.setLogLevel(newLevel). For SparkR, use setLogLevel(newLevel).\n",
      "24/09/30 09:54:04 WARN NativeCodeLoader: Unable to load native-hadoop library for your platform... using builtin-java classes where applicable\n",
      "24/09/30 09:54:09 WARN MetricsConfig: Cannot locate configuration: tried hadoop-metrics2-s3a-file-system.properties,hadoop-metrics2.properties\n"
     ]
    },
    {
     "name": "stdout",
     "output_type": "stream",
     "text": [
      "+--------+----------+\n",
      "|color_id|color_name|\n",
      "+--------+----------+\n",
      "|       1|     Black|\n",
      "|       2|       Red|\n",
      "|       3|      Gray|\n",
      "|       4|     White|\n",
      "|       5|     Green|\n",
      "|       6|      Blue|\n",
      "|       7|      Pink|\n",
      "+--------+----------+\n",
      "\n",
      "root\n",
      " |-- color_id: integer (nullable = true)\n",
      " |-- color_name: string (nullable = true)\n",
      "\n"
     ]
    },
    {
     "name": "stderr",
     "output_type": "stream",
     "text": [
      "                                                                                \r"
     ]
    }
   ],
   "source": [
    "from pyspark.sql import SparkSession\n",
    "from pyspark.sql.types import StructType, StructField, IntegerType, StringType\n",
    "\n",
    "# Create a Spark session\n",
    "spark = SparkSession \\\n",
    "    .builder \\\n",
    "    .master(\"local\")\\\n",
    "    .appName('color_table') \\\n",
    "    .getOrCreate()\n",
    "\n",
    "# Define the schema for the color DataFrame\n",
    "color_schema = StructType([\n",
    "    StructField(\"color_id\", IntegerType(), True),\n",
    "    StructField(\"color_name\", StringType(), True)\n",
    "])\n",
    "\n",
    "# Define the data for the color DataFrame\n",
    "color_data = [\n",
    "    (1, \"Black\"),\n",
    "    (2, \"Red\"),\n",
    "    (3, \"Gray\"),\n",
    "    (4, \"White\"),\n",
    "    (5, \"Green\"),\n",
    "    (6, \"Blue\"),\n",
    "    (7, \"Pink\")\n",
    "]\n",
    "\n",
    "# Create the color DataFrame\n",
    "color_df = spark.createDataFrame(color_data, schema=color_schema)\n",
    "\n",
    "# # Show the DataFrame\n",
    "color_df.show()\n",
    "color_df.printSchema()\n",
    "\n",
    "# Write to S3\n",
    "color_df.write.parquet('s3a://spark/data/car_colors', mode='overwrite')\n",
    "spark.stop()\n",
    "\n"
   ]
  }
 ],
 "metadata": {
  "kernelspec": {
   "display_name": "Python 3",
   "language": "python",
   "name": "python3"
  },
  "language_info": {
   "codemirror_mode": {
    "name": "ipython",
    "version": 3
   },
   "file_extension": ".py",
   "mimetype": "text/x-python",
   "name": "python",
   "nbconvert_exporter": "python",
   "pygments_lexer": "ipython3",
   "version": "3.10.7"
  },
  "orig_nbformat": 4
 },
 "nbformat": 4,
 "nbformat_minor": 2
}
